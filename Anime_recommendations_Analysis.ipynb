{
 "cells": [
  {
   "cell_type": "code",
   "execution_count": 1,
   "id": "d13ccbe4",
   "metadata": {},
   "outputs": [],
   "source": [
    "import pandas as pd\n",
    "import numpy as np\n",
    "import seaborn as sns\n",
    "import matplotlib.pyplot as plt"
   ]
  },
  {
   "cell_type": "code",
   "execution_count": 2,
   "id": "2ab0423d",
   "metadata": {},
   "outputs": [],
   "source": [
    "anime=pd.read_csv('anime.csv',encoding= 'unicode_escape')"
   ]
  },
  {
   "cell_type": "code",
   "execution_count": 3,
   "id": "926de557",
   "metadata": {},
   "outputs": [
    {
     "data": {
      "text/html": [
       "<div>\n",
       "<style scoped>\n",
       "    .dataframe tbody tr th:only-of-type {\n",
       "        vertical-align: middle;\n",
       "    }\n",
       "\n",
       "    .dataframe tbody tr th {\n",
       "        vertical-align: top;\n",
       "    }\n",
       "\n",
       "    .dataframe thead th {\n",
       "        text-align: right;\n",
       "    }\n",
       "</style>\n",
       "<table border=\"1\" class=\"dataframe\">\n",
       "  <thead>\n",
       "    <tr style=\"text-align: right;\">\n",
       "      <th></th>\n",
       "      <th>anime_id</th>\n",
       "      <th>name</th>\n",
       "      <th>genre</th>\n",
       "      <th>type</th>\n",
       "      <th>episodes</th>\n",
       "      <th>rating</th>\n",
       "      <th>members</th>\n",
       "    </tr>\n",
       "  </thead>\n",
       "  <tbody>\n",
       "    <tr>\n",
       "      <th>0</th>\n",
       "      <td>32281</td>\n",
       "      <td>Kimi no Na wa.</td>\n",
       "      <td>Drama, Romance, School, Supernatural</td>\n",
       "      <td>Movie</td>\n",
       "      <td>1</td>\n",
       "      <td>9.37</td>\n",
       "      <td>200630</td>\n",
       "    </tr>\n",
       "    <tr>\n",
       "      <th>1</th>\n",
       "      <td>5114</td>\n",
       "      <td>Fullmetal Alchemist: Brotherhood</td>\n",
       "      <td>Action, Adventure, Drama, Fantasy, Magic, Mili...</td>\n",
       "      <td>TV</td>\n",
       "      <td>64</td>\n",
       "      <td>9.26</td>\n",
       "      <td>793665</td>\n",
       "    </tr>\n",
       "    <tr>\n",
       "      <th>2</th>\n",
       "      <td>28977</td>\n",
       "      <td>GintamaÂ°</td>\n",
       "      <td>Action, Comedy, Historical, Parody, Samurai, S...</td>\n",
       "      <td>TV</td>\n",
       "      <td>51</td>\n",
       "      <td>9.25</td>\n",
       "      <td>114262</td>\n",
       "    </tr>\n",
       "    <tr>\n",
       "      <th>3</th>\n",
       "      <td>9253</td>\n",
       "      <td>Steins;Gate</td>\n",
       "      <td>Sci-Fi, Thriller</td>\n",
       "      <td>TV</td>\n",
       "      <td>24</td>\n",
       "      <td>9.17</td>\n",
       "      <td>673572</td>\n",
       "    </tr>\n",
       "    <tr>\n",
       "      <th>4</th>\n",
       "      <td>9969</td>\n",
       "      <td>Gintama&amp;#039;</td>\n",
       "      <td>Action, Comedy, Historical, Parody, Samurai, S...</td>\n",
       "      <td>TV</td>\n",
       "      <td>51</td>\n",
       "      <td>9.16</td>\n",
       "      <td>151266</td>\n",
       "    </tr>\n",
       "    <tr>\n",
       "      <th>5</th>\n",
       "      <td>32935</td>\n",
       "      <td>Haikyuu!!: Karasuno Koukou VS Shiratorizawa Ga...</td>\n",
       "      <td>Comedy, Drama, School, Shounen, Sports</td>\n",
       "      <td>TV</td>\n",
       "      <td>10</td>\n",
       "      <td>9.15</td>\n",
       "      <td>93351</td>\n",
       "    </tr>\n",
       "    <tr>\n",
       "      <th>6</th>\n",
       "      <td>11061</td>\n",
       "      <td>Hunter x Hunter (2011)</td>\n",
       "      <td>Action, Adventure, Shounen, Super Power</td>\n",
       "      <td>TV</td>\n",
       "      <td>148</td>\n",
       "      <td>9.13</td>\n",
       "      <td>425855</td>\n",
       "    </tr>\n",
       "    <tr>\n",
       "      <th>7</th>\n",
       "      <td>820</td>\n",
       "      <td>Ginga Eiyuu Densetsu</td>\n",
       "      <td>Drama, Military, Sci-Fi, Space</td>\n",
       "      <td>OVA</td>\n",
       "      <td>110</td>\n",
       "      <td>9.11</td>\n",
       "      <td>80679</td>\n",
       "    </tr>\n",
       "    <tr>\n",
       "      <th>8</th>\n",
       "      <td>15335</td>\n",
       "      <td>Gintama Movie: Kanketsu-hen - Yorozuya yo Eien...</td>\n",
       "      <td>Action, Comedy, Historical, Parody, Samurai, S...</td>\n",
       "      <td>Movie</td>\n",
       "      <td>1</td>\n",
       "      <td>9.10</td>\n",
       "      <td>72534</td>\n",
       "    </tr>\n",
       "    <tr>\n",
       "      <th>9</th>\n",
       "      <td>15417</td>\n",
       "      <td>Gintama&amp;#039;: Enchousen</td>\n",
       "      <td>Action, Comedy, Historical, Parody, Samurai, S...</td>\n",
       "      <td>TV</td>\n",
       "      <td>13</td>\n",
       "      <td>9.11</td>\n",
       "      <td>81109</td>\n",
       "    </tr>\n",
       "    <tr>\n",
       "      <th>10</th>\n",
       "      <td>4181</td>\n",
       "      <td>Clannad: After Story</td>\n",
       "      <td>Drama, Fantasy, Romance, Slice of Life, Supern...</td>\n",
       "      <td>TV</td>\n",
       "      <td>24</td>\n",
       "      <td>9.06</td>\n",
       "      <td>456749</td>\n",
       "    </tr>\n",
       "    <tr>\n",
       "      <th>11</th>\n",
       "      <td>28851</td>\n",
       "      <td>Koe no Katachi</td>\n",
       "      <td>Drama, School, Shounen</td>\n",
       "      <td>Movie</td>\n",
       "      <td>1</td>\n",
       "      <td>9.05</td>\n",
       "      <td>102733</td>\n",
       "    </tr>\n",
       "    <tr>\n",
       "      <th>12</th>\n",
       "      <td>918</td>\n",
       "      <td>Gintama</td>\n",
       "      <td>Action, Comedy, Historical, Parody, Samurai, S...</td>\n",
       "      <td>TV</td>\n",
       "      <td>201</td>\n",
       "      <td>9.04</td>\n",
       "      <td>336376</td>\n",
       "    </tr>\n",
       "    <tr>\n",
       "      <th>13</th>\n",
       "      <td>2904</td>\n",
       "      <td>Code Geass: Hangyaku no Lelouch R2</td>\n",
       "      <td>Action, Drama, Mecha, Military, Sci-Fi, Super ...</td>\n",
       "      <td>TV</td>\n",
       "      <td>25</td>\n",
       "      <td>8.98</td>\n",
       "      <td>572888</td>\n",
       "    </tr>\n",
       "    <tr>\n",
       "      <th>14</th>\n",
       "      <td>28891</td>\n",
       "      <td>Haikyuu!! Second Season</td>\n",
       "      <td>Comedy, Drama, School, Shounen, Sports</td>\n",
       "      <td>TV</td>\n",
       "      <td>25</td>\n",
       "      <td>8.93</td>\n",
       "      <td>179342</td>\n",
       "    </tr>\n",
       "    <tr>\n",
       "      <th>15</th>\n",
       "      <td>199</td>\n",
       "      <td>Sen to Chihiro no Kamikakushi</td>\n",
       "      <td>Adventure, Drama, Supernatural</td>\n",
       "      <td>Movie</td>\n",
       "      <td>1</td>\n",
       "      <td>8.93</td>\n",
       "      <td>466254</td>\n",
       "    </tr>\n",
       "    <tr>\n",
       "      <th>16</th>\n",
       "      <td>23273</td>\n",
       "      <td>Shigatsu wa Kimi no Uso</td>\n",
       "      <td>Drama, Music, Romance, School, Shounen</td>\n",
       "      <td>TV</td>\n",
       "      <td>22</td>\n",
       "      <td>8.92</td>\n",
       "      <td>416397</td>\n",
       "    </tr>\n",
       "    <tr>\n",
       "      <th>17</th>\n",
       "      <td>24701</td>\n",
       "      <td>Mushishi Zoku Shou 2nd Season</td>\n",
       "      <td>Adventure, Fantasy, Historical, Mystery, Seine...</td>\n",
       "      <td>TV</td>\n",
       "      <td>10</td>\n",
       "      <td>8.88</td>\n",
       "      <td>75894</td>\n",
       "    </tr>\n",
       "    <tr>\n",
       "      <th>18</th>\n",
       "      <td>12355</td>\n",
       "      <td>Ookami Kodomo no Ame to Yuki</td>\n",
       "      <td>Fantasy, Slice of Life</td>\n",
       "      <td>Movie</td>\n",
       "      <td>1</td>\n",
       "      <td>8.84</td>\n",
       "      <td>226193</td>\n",
       "    </tr>\n",
       "    <tr>\n",
       "      <th>19</th>\n",
       "      <td>1575</td>\n",
       "      <td>Code Geass: Hangyaku no Lelouch</td>\n",
       "      <td>Action, Mecha, Military, School, Sci-Fi, Super...</td>\n",
       "      <td>TV</td>\n",
       "      <td>25</td>\n",
       "      <td>8.83</td>\n",
       "      <td>715151</td>\n",
       "    </tr>\n",
       "  </tbody>\n",
       "</table>\n",
       "</div>"
      ],
      "text/plain": [
       "    anime_id                                               name  \\\n",
       "0      32281                                     Kimi no Na wa.   \n",
       "1       5114                   Fullmetal Alchemist: Brotherhood   \n",
       "2      28977                                          GintamaÂ°   \n",
       "3       9253                                        Steins;Gate   \n",
       "4       9969                                      Gintama&#039;   \n",
       "5      32935  Haikyuu!!: Karasuno Koukou VS Shiratorizawa Ga...   \n",
       "6      11061                             Hunter x Hunter (2011)   \n",
       "7        820                               Ginga Eiyuu Densetsu   \n",
       "8      15335  Gintama Movie: Kanketsu-hen - Yorozuya yo Eien...   \n",
       "9      15417                           Gintama&#039;: Enchousen   \n",
       "10      4181                               Clannad: After Story   \n",
       "11     28851                                     Koe no Katachi   \n",
       "12       918                                            Gintama   \n",
       "13      2904                 Code Geass: Hangyaku no Lelouch R2   \n",
       "14     28891                            Haikyuu!! Second Season   \n",
       "15       199                      Sen to Chihiro no Kamikakushi   \n",
       "16     23273                            Shigatsu wa Kimi no Uso   \n",
       "17     24701                      Mushishi Zoku Shou 2nd Season   \n",
       "18     12355                       Ookami Kodomo no Ame to Yuki   \n",
       "19      1575                    Code Geass: Hangyaku no Lelouch   \n",
       "\n",
       "                                                genre   type episodes  rating  \\\n",
       "0                Drama, Romance, School, Supernatural  Movie        1    9.37   \n",
       "1   Action, Adventure, Drama, Fantasy, Magic, Mili...     TV       64    9.26   \n",
       "2   Action, Comedy, Historical, Parody, Samurai, S...     TV       51    9.25   \n",
       "3                                    Sci-Fi, Thriller     TV       24    9.17   \n",
       "4   Action, Comedy, Historical, Parody, Samurai, S...     TV       51    9.16   \n",
       "5              Comedy, Drama, School, Shounen, Sports     TV       10    9.15   \n",
       "6             Action, Adventure, Shounen, Super Power     TV      148    9.13   \n",
       "7                      Drama, Military, Sci-Fi, Space    OVA      110    9.11   \n",
       "8   Action, Comedy, Historical, Parody, Samurai, S...  Movie        1    9.10   \n",
       "9   Action, Comedy, Historical, Parody, Samurai, S...     TV       13    9.11   \n",
       "10  Drama, Fantasy, Romance, Slice of Life, Supern...     TV       24    9.06   \n",
       "11                             Drama, School, Shounen  Movie        1    9.05   \n",
       "12  Action, Comedy, Historical, Parody, Samurai, S...     TV      201    9.04   \n",
       "13  Action, Drama, Mecha, Military, Sci-Fi, Super ...     TV       25    8.98   \n",
       "14             Comedy, Drama, School, Shounen, Sports     TV       25    8.93   \n",
       "15                     Adventure, Drama, Supernatural  Movie        1    8.93   \n",
       "16             Drama, Music, Romance, School, Shounen     TV       22    8.92   \n",
       "17  Adventure, Fantasy, Historical, Mystery, Seine...     TV       10    8.88   \n",
       "18                             Fantasy, Slice of Life  Movie        1    8.84   \n",
       "19  Action, Mecha, Military, School, Sci-Fi, Super...     TV       25    8.83   \n",
       "\n",
       "    members  \n",
       "0    200630  \n",
       "1    793665  \n",
       "2    114262  \n",
       "3    673572  \n",
       "4    151266  \n",
       "5     93351  \n",
       "6    425855  \n",
       "7     80679  \n",
       "8     72534  \n",
       "9     81109  \n",
       "10   456749  \n",
       "11   102733  \n",
       "12   336376  \n",
       "13   572888  \n",
       "14   179342  \n",
       "15   466254  \n",
       "16   416397  \n",
       "17    75894  \n",
       "18   226193  \n",
       "19   715151  "
      ]
     },
     "execution_count": 3,
     "metadata": {},
     "output_type": "execute_result"
    }
   ],
   "source": [
    "anime.head(20)"
   ]
  },
  {
   "cell_type": "code",
   "execution_count": 4,
   "id": "8cbd5385",
   "metadata": {},
   "outputs": [
    {
     "data": {
      "text/plain": [
       "(12294, 7)"
      ]
     },
     "execution_count": 4,
     "metadata": {},
     "output_type": "execute_result"
    }
   ],
   "source": [
    "anime.shape"
   ]
  },
  {
   "cell_type": "code",
   "execution_count": 33,
   "id": "ea39d31f",
   "metadata": {},
   "outputs": [
    {
     "data": {
      "text/plain": [
       "<bound method DataFrame.info of        anime_id                                               name  \\\n",
       "0         32281                                     Kimi no Na wa.   \n",
       "1          5114                   Fullmetal Alchemist: Brotherhood   \n",
       "2         28977                                          GintamaÂ°   \n",
       "3          9253                                        Steins;Gate   \n",
       "4          9969                                      Gintama&#039;   \n",
       "...         ...                                                ...   \n",
       "12289      9316       Toushindai My Lover: Minami tai Mecha-Minami   \n",
       "12290      5543                                        Under World   \n",
       "12291      5621                     Violence Gekiga David no Hoshi   \n",
       "12292      6133  Violence Gekiga Shin David no Hoshi: Inma Dens...   \n",
       "12293     26081                   Yasuji no Pornorama: Yacchimae!!   \n",
       "\n",
       "                                                   genre   type episodes  \\\n",
       "0                   Drama, Romance, School, Supernatural  Movie        1   \n",
       "1      Action, Adventure, Drama, Fantasy, Magic, Mili...     TV       64   \n",
       "2      Action, Comedy, Historical, Parody, Samurai, S...     TV       51   \n",
       "3                                       Sci-Fi, Thriller     TV       24   \n",
       "4      Action, Comedy, Historical, Parody, Samurai, S...     TV       51   \n",
       "...                                                  ...    ...      ...   \n",
       "12289                                             Hentai    OVA        1   \n",
       "12290                                             Hentai    OVA        1   \n",
       "12291                                             Hentai    OVA        4   \n",
       "12292                                             Hentai    OVA        1   \n",
       "12293                                             Hentai  Movie        1   \n",
       "\n",
       "       rating  members  \n",
       "0        9.37   200630  \n",
       "1        9.26   793665  \n",
       "2        9.25   114262  \n",
       "3        9.17   673572  \n",
       "4        9.16   151266  \n",
       "...       ...      ...  \n",
       "12289    4.15      211  \n",
       "12290    4.28      183  \n",
       "12291    4.88      219  \n",
       "12292    4.98      175  \n",
       "12293    5.46      142  \n",
       "\n",
       "[12017 rows x 7 columns]>"
      ]
     },
     "execution_count": 33,
     "metadata": {},
     "output_type": "execute_result"
    }
   ],
   "source": [
    "anime.info"
   ]
  },
  {
   "cell_type": "code",
   "execution_count": 6,
   "id": "f355ce3b",
   "metadata": {},
   "outputs": [
    {
     "data": {
      "text/plain": [
       "anime_id      0\n",
       "name          0\n",
       "genre        62\n",
       "type         25\n",
       "episodes      0\n",
       "rating      230\n",
       "members       0\n",
       "dtype: int64"
      ]
     },
     "execution_count": 6,
     "metadata": {},
     "output_type": "execute_result"
    }
   ],
   "source": [
    "pd.isnull(anime).sum()"
   ]
  },
  {
   "cell_type": "code",
   "execution_count": 7,
   "id": "d51b30ff",
   "metadata": {},
   "outputs": [],
   "source": [
    "anime.dropna(inplace=True)"
   ]
  },
  {
   "cell_type": "code",
   "execution_count": 8,
   "id": "b62dfc42",
   "metadata": {},
   "outputs": [
    {
     "data": {
      "text/html": [
       "<div>\n",
       "<style scoped>\n",
       "    .dataframe tbody tr th:only-of-type {\n",
       "        vertical-align: middle;\n",
       "    }\n",
       "\n",
       "    .dataframe tbody tr th {\n",
       "        vertical-align: top;\n",
       "    }\n",
       "\n",
       "    .dataframe thead th {\n",
       "        text-align: right;\n",
       "    }\n",
       "</style>\n",
       "<table border=\"1\" class=\"dataframe\">\n",
       "  <thead>\n",
       "    <tr style=\"text-align: right;\">\n",
       "      <th></th>\n",
       "      <th>anime_id</th>\n",
       "      <th>rating</th>\n",
       "      <th>members</th>\n",
       "    </tr>\n",
       "  </thead>\n",
       "  <tbody>\n",
       "    <tr>\n",
       "      <th>count</th>\n",
       "      <td>12017.000000</td>\n",
       "      <td>12017.000000</td>\n",
       "      <td>1.201700e+04</td>\n",
       "    </tr>\n",
       "    <tr>\n",
       "      <th>mean</th>\n",
       "      <td>13638.001165</td>\n",
       "      <td>6.478264</td>\n",
       "      <td>1.834888e+04</td>\n",
       "    </tr>\n",
       "    <tr>\n",
       "      <th>std</th>\n",
       "      <td>11231.076675</td>\n",
       "      <td>1.023857</td>\n",
       "      <td>5.537250e+04</td>\n",
       "    </tr>\n",
       "    <tr>\n",
       "      <th>min</th>\n",
       "      <td>1.000000</td>\n",
       "      <td>1.670000</td>\n",
       "      <td>1.200000e+01</td>\n",
       "    </tr>\n",
       "    <tr>\n",
       "      <th>25%</th>\n",
       "      <td>3391.000000</td>\n",
       "      <td>5.890000</td>\n",
       "      <td>2.250000e+02</td>\n",
       "    </tr>\n",
       "    <tr>\n",
       "      <th>50%</th>\n",
       "      <td>9959.000000</td>\n",
       "      <td>6.570000</td>\n",
       "      <td>1.552000e+03</td>\n",
       "    </tr>\n",
       "    <tr>\n",
       "      <th>75%</th>\n",
       "      <td>23729.000000</td>\n",
       "      <td>7.180000</td>\n",
       "      <td>9.588000e+03</td>\n",
       "    </tr>\n",
       "    <tr>\n",
       "      <th>max</th>\n",
       "      <td>34519.000000</td>\n",
       "      <td>10.000000</td>\n",
       "      <td>1.013917e+06</td>\n",
       "    </tr>\n",
       "  </tbody>\n",
       "</table>\n",
       "</div>"
      ],
      "text/plain": [
       "           anime_id        rating       members\n",
       "count  12017.000000  12017.000000  1.201700e+04\n",
       "mean   13638.001165      6.478264  1.834888e+04\n",
       "std    11231.076675      1.023857  5.537250e+04\n",
       "min        1.000000      1.670000  1.200000e+01\n",
       "25%     3391.000000      5.890000  2.250000e+02\n",
       "50%     9959.000000      6.570000  1.552000e+03\n",
       "75%    23729.000000      7.180000  9.588000e+03\n",
       "max    34519.000000     10.000000  1.013917e+06"
      ]
     },
     "execution_count": 8,
     "metadata": {},
     "output_type": "execute_result"
    }
   ],
   "source": [
    "anime.describe()"
   ]
  },
  {
   "cell_type": "code",
   "execution_count": 9,
   "id": "3f41a93f",
   "metadata": {},
   "outputs": [
    {
     "data": {
      "text/plain": [
       "Index(['anime_id', 'name', 'genre', 'type', 'episodes', 'rating', 'members'], dtype='object')"
      ]
     },
     "execution_count": 9,
     "metadata": {},
     "output_type": "execute_result"
    }
   ],
   "source": [
    "anime.columns"
   ]
  },
  {
   "cell_type": "markdown",
   "id": "be09c3fe",
   "metadata": {},
   "source": [
    "### Q-1 Find the genre which has the lowest rating?"
   ]
  },
  {
   "cell_type": "code",
   "execution_count": 10,
   "id": "3522f51c",
   "metadata": {},
   "outputs": [
    {
     "data": {
      "image/png": "[encoded data removed]",
      "text/plain": [
       "<Figure size 2000x500 with 1 Axes>"
      ]
     },
     "metadata": {},
     "output_type": "display_data"
    }
   ],
   "source": [
    "low_rated = anime.sort_values([\"rating\"],ascending=False).head(5)\n",
    "sns.set(rc={'figure.figsize':(20,5)})\n",
    "ae=sns.barplot(x = 'genre',y= 'rating' ,data = low_rated )\n",
    "for bars in ae.containers:\n",
    "    ae.bar_label(bars)"
   ]
  },
  {
   "cell_type": "markdown",
   "id": "9e6b306b",
   "metadata": {},
   "source": [
    "From the above graph we can see that historical genre has the lowest rating anime."
   ]
  },
  {
   "cell_type": "markdown",
   "id": "8d0d90b6",
   "metadata": {},
   "source": [
    "### Q-2 Find which anime has most member by their name?"
   ]
  },
  {
   "cell_type": "code",
   "execution_count": 12,
   "id": "94ab4e63",
   "metadata": {},
   "outputs": [
    {
     "data": {
      "image/png": "[encoded data removed]",
      "text/plain": [
       "<Figure size 2000x500 with 1 Axes>"
      ]
     },
     "metadata": {},
     "output_type": "display_data"
    }
   ],
   "source": [
    "most_member = anime.sort_values([\"members\"],ascending=False).head(5)\n",
    "sns.set(rc={'figure.figsize':(20,5)})\n",
    "ae=sns.barplot(x = 'name',y= 'members' ,data = most_member )\n",
    "for bars in ae.containers:\n",
    "    ae.bar_label(bars)"
   ]
  },
  {
   "cell_type": "markdown",
   "id": "1c954edb",
   "metadata": {},
   "source": [
    "From the above graph we can say that death note has the highest member in the dataset."
   ]
  },
  {
   "cell_type": "markdown",
   "id": "55c13010",
   "metadata": {},
   "source": [
    "### Q-3 Find the count of the type of anime in the dataset ?"
   ]
  },
  {
   "cell_type": "code",
   "execution_count": 13,
   "id": "6aaf9410",
   "metadata": {},
   "outputs": [
    {
     "data": {
      "text/plain": [
       "type\n",
       "TV         3668\n",
       "OVA        3284\n",
       "Movie      2259\n",
       "Special    1670\n",
       "ONA         648\n",
       "Music       488\n",
       "Name: count, dtype: int64"
      ]
     },
     "execution_count": 13,
     "metadata": {},
     "output_type": "execute_result"
    }
   ],
   "source": [
    "anime.value_counts(\"type\")"
   ]
  },
  {
   "cell_type": "code",
   "execution_count": 14,
   "id": "87089111",
   "metadata": {},
   "outputs": [
    {
     "data": {
      "text/plain": [
       "Text(0.5, 1.0, 'Anime Category Distribution')"
      ]
     },
     "execution_count": 14,
     "metadata": {},
     "output_type": "execute_result"
    },
    {
     "data": {
      "image/png": "[encoded data removed]",
      "text/plain": [
       "<Figure size 2000x500 with 1 Axes>"
      ]
     },
     "metadata": {},
     "output_type": "display_data"
    }
   ],
   "source": [
    "sns.countplot(data=anime,x=\"type\")\n",
    "plt.xlabel(\"Anime Category\")\n",
    "plt.ylabel('Frequency')\n",
    "plt.title(\"Anime Category Distribution\")"
   ]
  },
  {
   "cell_type": "markdown",
   "id": "6c65242a",
   "metadata": {},
   "source": [
    "From the above graph we can say that tv anime has the highest count in the dataset."
   ]
  },
  {
   "cell_type": "markdown",
   "id": "1e1a0922",
   "metadata": {},
   "source": [
    "  ### Q-4 Find the duplicate name of the anime from the dataset?"
   ]
  },
  {
   "cell_type": "code",
   "execution_count": 27,
   "id": "dd896f37",
   "metadata": {},
   "outputs": [
    {
     "data": {
      "text/plain": [
       "name\n",
       "Shi Wan Ge Leng Xiaohua                                                                            2\n",
       "Saru Kani Gassen                                                                                   2\n",
       "CCW: Crazy Clay Wrestling                                                                          1\n",
       "Crayon Angel                                                                                       1\n",
       "Koumon-teki Juuku Ketsujiru Juke                                                                   1\n",
       "                                                                                                  ..\n",
       "Bakusou Kyoudai Let&#039;s &amp; Go!! WGP Bousou Mini Yonku Daitsuiseki                            1\n",
       "Beet the Vandel Buster Excellion                                                                   1\n",
       "Black Jack ONA                                                                                     1\n",
       "Crayon Shin-chan Manatsu no Yoru ni Ora Sanjou! Arashi wo Yobu Den-O vs. Shin-O 60-bu Special!!    1\n",
       "Yasuji no Pornorama: Yacchimae!!                                                                   1\n",
       "Name: count, Length: 12015, dtype: int64"
      ]
     },
     "execution_count": 27,
     "metadata": {},
     "output_type": "execute_result"
    }
   ],
   "source": [
    "anime[\"name\"].value_counts()"
   ]
  },
  {
   "cell_type": "markdown",
   "id": "8b49a96e",
   "metadata": {},
   "source": [
    "From the above count we can say that only two anime has duplicate entry in the dataset."
   ]
  },
  {
   "cell_type": "markdown",
   "id": "a6c0a51e",
   "metadata": {},
   "source": [
    "### Q-5 Find which anime has the most rated in the first 10 records in the data?"
   ]
  },
  {
   "cell_type": "code",
   "execution_count": 31,
   "id": "72a9f5af",
   "metadata": {},
   "outputs": [
    {
     "data": {
      "text/plain": [
       "<Axes: xlabel='name', ylabel='rating'>"
      ]
     },
     "execution_count": 31,
     "metadata": {},
     "output_type": "execute_result"
    },
    {
     "data": {
      "image/png": "[encoded data removed]",
      "text/plain": [
       "<Figure size 3000x500 with 1 Axes>"
      ]
     },
     "metadata": {},
     "output_type": "display_data"
    }
   ],
   "source": [
    "Most_rated = anime.head(10).sort_values([\"rating\"],ascending=False)\n",
    "sns.set(rc={'figure.figsize':(30,5)})\n",
    "sns.barplot(x='name',y='rating',data=Most_rated)"
   ]
  },
  {
   "cell_type": "markdown",
   "id": "7199ad4b",
   "metadata": {},
   "source": [
    "From the above graph we can say that most rated anime is kim no Na wa"
   ]
  },
  {
   "cell_type": "markdown",
   "id": "8851187b",
   "metadata": {},
   "source": [
    "### Q-6 Find the unique values in all the columns?"
   ]
  },
  {
   "cell_type": "code",
   "execution_count": 32,
   "id": "7bcf5d55",
   "metadata": {},
   "outputs": [
    {
     "data": {
      "text/plain": [
       "anime_id    12017\n",
       "name        12015\n",
       "genre        3229\n",
       "type            6\n",
       "episodes      187\n",
       "rating        598\n",
       "members      6596\n",
       "dtype: int64"
      ]
     },
     "execution_count": 32,
     "metadata": {},
     "output_type": "execute_result"
    }
   ],
   "source": [
    "anime.nunique()"
   ]
  },
  {
   "cell_type": "markdown",
   "id": "52afd16e",
   "metadata": {},
   "source": [
    "# Summary"
   ]
  },
  {
   "cell_type": "markdown",
   "id": "497257b9",
   "metadata": {},
   "source": [
    "From the above analysis we can conclude that Death note has the highest popularity as it has most of the members and there are 6 types of anime which is having 3229 genre and the worst genre is comedy,parody."
   ]
  }
 ],
 "metadata": {
  "kernelspec": {
   "display_name": "Python 3 (ipykernel)",
   "language": "python",
   "name": "python3"
  },
  "language_info": {
   "codemirror_mode": {
    "name": "ipython",
    "version": 3
   },
   "file_extension": ".py",
   "mimetype": "text/x-python",
   "name": "python",
   "nbconvert_exporter": "python",
   "pygments_lexer": "ipython3",
   "version": "3.11.4"
  }
 },
 "nbformat": 4,
 "nbformat_minor": 5
}
